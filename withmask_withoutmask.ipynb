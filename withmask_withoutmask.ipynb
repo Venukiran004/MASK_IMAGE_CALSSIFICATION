{
 "cells": [
  {
   "attachments": {
    "OIP.jpg": {
     "image/jpeg": "[encoded data removed]"
    }
   },
   "cell_type": "markdown",
   "metadata": {},
   "source": [
    "![OIP.jpg](attachment:OIP.jpg)"
   ]
  },
  {
   "cell_type": "markdown",
   "metadata": {
    "colab_type": "text",
    "id": "EMefrVPCg-60"
   },
   "source": [
    "### Importing the libraries"
   ]
  },
  {
   "cell_type": "code",
   "execution_count": 1,
   "metadata": {
    "colab": {},
    "colab_type": "code",
    "id": "sCV30xyVhFbE"
   },
   "outputs": [],
   "source": [
    "import tensorflow as tf\n",
    "from keras.preprocessing.image import ImageDataGenerator"
   ]
  },
  {
   "cell_type": "code",
   "execution_count": 2,
   "metadata": {
    "colab": {},
    "colab_type": "code",
    "id": "FIleuCAjoFD8"
   },
   "outputs": [
    {
     "data": {
      "text/plain": [
       "'2.3.0'"
      ]
     },
     "execution_count": 2,
     "metadata": {},
     "output_type": "execute_result"
    }
   ],
   "source": [
    "tf.__version__"
   ]
  },
  {
   "cell_type": "code",
   "execution_count": 3,
   "metadata": {
    "colab": {},
    "colab_type": "code",
    "id": "0koUcJMJpEBD"
   },
   "outputs": [
    {
     "name": "stdout",
     "output_type": "stream",
     "text": [
      "Found 66 images belonging to 2 classes.\n"
     ]
    }
   ],
   "source": [
    "train_datagen = ImageDataGenerator(rescale = 1./255,\n",
    "                                   shear_range = 0.2,\n",
    "                                   zoom_range = 0.2,\n",
    "                                   horizontal_flip = True)\n",
    "training_set = train_datagen.flow_from_directory('C:/Users/venuk/OneDrive/Desktop/2 class/images',\n",
    "                                                 target_size = (64, 64),\n",
    "                                                 batch_size = 32,\n",
    "                                                 class_mode = 'binary')"
   ]
  },
  {
   "cell_type": "code",
   "execution_count": 5,
   "metadata": {
    "colab": {},
    "colab_type": "code",
    "id": "SH4WzfOhpKc3"
   },
   "outputs": [
    {
     "name": "stdout",
     "output_type": "stream",
     "text": [
      "Found 66 images belonging to 2 classes.\n"
     ]
    }
   ],
   "source": [
    "test_datagen = ImageDataGenerator(rescale = 1./255)\n",
    "test_set = test_datagen.flow_from_directory('C:/Users/venuk/OneDrive/Desktop/2 class/images',\n",
    "                                            target_size = (64, 64),\n",
    "                                            batch_size = 32,\n",
    "                                            class_mode = 'binary')"
   ]
  },
  {
   "cell_type": "code",
   "execution_count": 6,
   "metadata": {
    "colab": {},
    "colab_type": "code",
    "id": "SAUt4UMPlhLS"
   },
   "outputs": [],
   "source": [
    "#Initializing the CNN\n",
    "cnn = tf.keras.models.Sequential()"
   ]
  },
  {
   "cell_type": "code",
   "execution_count": 7,
   "metadata": {
    "colab": {},
    "colab_type": "code",
    "id": "XPzPrMckl-hV"
   },
   "outputs": [],
   "source": [
    "#adding convolution layer\n",
    "cnn.add(tf.keras.layers.Conv2D(filters=32, kernel_size=3, activation='relu', input_shape=[64, 64, 3]))"
   ]
  },
  {
   "cell_type": "code",
   "execution_count": 8,
   "metadata": {
    "colab": {},
    "colab_type": "code",
    "id": "ncpqPl69mOac"
   },
   "outputs": [],
   "source": [
    "#adding pooling layer\n",
    "cnn.add(tf.keras.layers.MaxPool2D(pool_size=2, strides=2))"
   ]
  },
  {
   "cell_type": "code",
   "execution_count": 9,
   "metadata": {
    "colab": {},
    "colab_type": "code",
    "id": "i_-FZjn_m8gk"
   },
   "outputs": [],
   "source": [
    "cnn.add(tf.keras.layers.Conv2D(filters=32, kernel_size=3, activation='relu'))\n",
    "cnn.add(tf.keras.layers.MaxPool2D(pool_size=2, strides=2))"
   ]
  },
  {
   "cell_type": "code",
   "execution_count": 10,
   "metadata": {
    "colab": {},
    "colab_type": "code",
    "id": "6AZeOGCvnNZn"
   },
   "outputs": [],
   "source": [
    "#adding flatten layer\n",
    "cnn.add(tf.keras.layers.Flatten())"
   ]
  },
  {
   "cell_type": "code",
   "execution_count": 11,
   "metadata": {
    "colab": {},
    "colab_type": "code",
    "id": "8GtmUlLd26Nq"
   },
   "outputs": [],
   "source": [
    "#fully connected layer\n",
    "cnn.add(tf.keras.layers.Dense(units=128, activation='relu'))"
   ]
  },
  {
   "cell_type": "code",
   "execution_count": 12,
   "metadata": {
    "colab": {},
    "colab_type": "code",
    "id": "1p_Zj1Mc3Ko_"
   },
   "outputs": [],
   "source": [
    "#output layer\n",
    "cnn.add(tf.keras.layers.Dense(units=1, activation='sigmoid'))"
   ]
  },
  {
   "cell_type": "code",
   "execution_count": 13,
   "metadata": {
    "colab": {},
    "colab_type": "code",
    "id": "NALksrNQpUlJ"
   },
   "outputs": [],
   "source": [
    "cnn.compile(optimizer = 'adam', loss = 'binary_crossentropy', metrics = ['accuracy'])"
   ]
  },
  {
   "cell_type": "code",
   "execution_count": 14,
   "metadata": {
    "colab": {},
    "colab_type": "code",
    "id": "XUj1W4PJptta",
    "scrolled": true
   },
   "outputs": [
    {
     "name": "stdout",
     "output_type": "stream",
     "text": [
      "Epoch 1/25\n",
      "3/3 [==============================] - 1s 498ms/step - loss: 0.6365 - accuracy: 0.6212 - val_loss: 3.3664 - val_accuracy: 0.5000\n",
      "Epoch 2/25\n",
      "3/3 [==============================] - 1s 425ms/step - loss: 4.4092 - accuracy: 0.5000 - val_loss: 2.0606 - val_accuracy: 0.5000\n",
      "Epoch 3/25\n",
      "3/3 [==============================] - 1s 431ms/step - loss: 0.8386 - accuracy: 0.5909 - val_loss: 0.7294 - val_accuracy: 0.5000\n",
      "Epoch 4/25\n",
      "3/3 [==============================] - 1s 324ms/step - loss: 0.7489 - accuracy: 0.5000 - val_loss: 0.7780 - val_accuracy: 0.5000\n",
      "Epoch 5/25\n",
      "3/3 [==============================] - 1s 357ms/step - loss: 0.7534 - accuracy: 0.5000 - val_loss: 0.7014 - val_accuracy: 0.5000\n",
      "Epoch 6/25\n",
      "3/3 [==============================] - 1s 307ms/step - loss: 0.7068 - accuracy: 0.5000 - val_loss: 0.6805 - val_accuracy: 0.5303\n",
      "Epoch 7/25\n",
      "3/3 [==============================] - 1s 316ms/step - loss: 0.6805 - accuracy: 0.5606 - val_loss: 0.6765 - val_accuracy: 0.7576\n",
      "Epoch 8/25\n",
      "3/3 [==============================] - 1s 318ms/step - loss: 0.6768 - accuracy: 0.8030 - val_loss: 0.6727 - val_accuracy: 0.5606\n",
      "Epoch 9/25\n",
      "3/3 [==============================] - 1s 313ms/step - loss: 0.6748 - accuracy: 0.5758 - val_loss: 0.6804 - val_accuracy: 0.5000\n",
      "Epoch 10/25\n",
      "3/3 [==============================] - 1s 323ms/step - loss: 0.6824 - accuracy: 0.5000 - val_loss: 0.6771 - val_accuracy: 0.5000\n",
      "Epoch 11/25\n",
      "3/3 [==============================] - 1s 309ms/step - loss: 0.6799 - accuracy: 0.5000 - val_loss: 0.6631 - val_accuracy: 0.5000\n",
      "Epoch 12/25\n",
      "3/3 [==============================] - 1s 338ms/step - loss: 0.6679 - accuracy: 0.5000 - val_loss: 0.6556 - val_accuracy: 0.5000\n",
      "Epoch 13/25\n",
      "3/3 [==============================] - 1s 300ms/step - loss: 0.6642 - accuracy: 0.5000 - val_loss: 0.6430 - val_accuracy: 0.5000\n",
      "Epoch 14/25\n",
      "3/3 [==============================] - 1s 310ms/step - loss: 0.6417 - accuracy: 0.5455 - val_loss: 0.6093 - val_accuracy: 0.8485\n",
      "Epoch 15/25\n",
      "3/3 [==============================] - 1s 427ms/step - loss: 0.6149 - accuracy: 0.8788 - val_loss: 0.5855 - val_accuracy: 0.8485\n",
      "Epoch 16/25\n",
      "3/3 [==============================] - 1s 360ms/step - loss: 0.5993 - accuracy: 0.8636 - val_loss: 0.5604 - val_accuracy: 0.8333\n",
      "Epoch 17/25\n",
      "3/3 [==============================] - 1s 320ms/step - loss: 0.5664 - accuracy: 0.8636 - val_loss: 0.5176 - val_accuracy: 0.8485\n",
      "Epoch 18/25\n",
      "3/3 [==============================] - 1s 308ms/step - loss: 0.5339 - accuracy: 0.8485 - val_loss: 0.5356 - val_accuracy: 0.6667\n",
      "Epoch 19/25\n",
      "3/3 [==============================] - 1s 327ms/step - loss: 0.5279 - accuracy: 0.6667 - val_loss: 0.5215 - val_accuracy: 0.6667\n",
      "Epoch 20/25\n",
      "3/3 [==============================] - 1s 359ms/step - loss: 0.4955 - accuracy: 0.8636 - val_loss: 0.4268 - val_accuracy: 0.8636\n",
      "Epoch 21/25\n",
      "3/3 [==============================] - 1s 428ms/step - loss: 0.4481 - accuracy: 0.8182 - val_loss: 0.4939 - val_accuracy: 0.6970\n",
      "Epoch 22/25\n",
      "3/3 [==============================] - 1s 323ms/step - loss: 0.4257 - accuracy: 0.8182 - val_loss: 0.3739 - val_accuracy: 0.8485\n",
      "Epoch 23/25\n",
      "3/3 [==============================] - 1s 323ms/step - loss: 0.4341 - accuracy: 0.7879 - val_loss: 0.3629 - val_accuracy: 0.8636\n",
      "Epoch 24/25\n",
      "3/3 [==============================] - 1s 353ms/step - loss: 0.4281 - accuracy: 0.8333 - val_loss: 0.3627 - val_accuracy: 0.8636\n",
      "Epoch 25/25\n",
      "3/3 [==============================] - 1s 314ms/step - loss: 0.4094 - accuracy: 0.8182 - val_loss: 0.4088 - val_accuracy: 0.8030\n"
     ]
    },
    {
     "data": {
      "text/plain": [
       "<tensorflow.python.keras.callbacks.History at 0x2e6c3ae3d08>"
      ]
     },
     "execution_count": 14,
     "metadata": {},
     "output_type": "execute_result"
    }
   ],
   "source": [
    "cnn.fit(x = training_set, validation_data = test_set, epochs = 25)"
   ]
  },
  {
   "cell_type": "code",
   "execution_count": 26,
   "metadata": {
    "colab": {},
    "colab_type": "code",
    "id": "gsSiWEJY1BPB"
   },
   "outputs": [
    {
     "data": {
      "text/plain": [
       "{'with_mask': 0, 'without_mask': 1}"
      ]
     },
     "execution_count": 26,
     "metadata": {},
     "output_type": "execute_result"
    }
   ],
   "source": [
    "import numpy as np\n",
    "from keras.preprocessing import image\n",
    "test_image = image.load_img('C:/Users/venuk/OneDrive/Desktop/2 class/testimages/withoutmask.jpg', target_size = (64, 64))\n",
    "test_image = image.img_to_array(test_image)\n",
    "test_image = np.expand_dims(test_image, axis = 0)\n",
    "result = cnn.predict(test_image)\n",
    "training_set.class_indices\n",
    " "
   ]
  },
  {
   "attachments": {
    "withoutmask.jpg": {
     "image/jpeg": "[encoded data removed]"
    }
   },
   "cell_type": "markdown",
   "metadata": {},
   "source": [
    "![withoutmask.jpg](attachment:withoutmask.jpg)"
   ]
  },
  {
   "cell_type": "code",
   "execution_count": 22,
   "metadata": {},
   "outputs": [
    {
     "name": "stdout",
     "output_type": "stream",
     "text": [
      "[[1.]]\n"
     ]
    }
   ],
   "source": [
    "print(result)"
   ]
  },
  {
   "cell_type": "code",
   "execution_count": 23,
   "metadata": {},
   "outputs": [],
   "source": [
    "if result[0][0] == 1:\n",
    "    prediction = 'without_mask'\n",
    "else:\n",
    "    prediction = 'with_mask'"
   ]
  },
  {
   "cell_type": "code",
   "execution_count": 24,
   "metadata": {
    "colab": {},
    "colab_type": "code",
    "id": "ED9KB3I54c1i"
   },
   "outputs": [
    {
     "name": "stdout",
     "output_type": "stream",
     "text": [
      "[[1.]]\n"
     ]
    }
   ],
   "source": [
    "print(result)"
   ]
  },
  {
   "cell_type": "code",
   "execution_count": 25,
   "metadata": {},
   "outputs": [
    {
     "name": "stdout",
     "output_type": "stream",
     "text": [
      "without_mask\n"
     ]
    }
   ],
   "source": [
    "print(prediction)"
   ]
  },
  {
   "cell_type": "code",
   "execution_count": null,
   "metadata": {},
   "outputs": [],
   "source": []
  }
 ],
 "metadata": {
  "colab": {
   "collapsed_sections": [],
   "name": "convolutional_neural_network.ipynb",
   "provenance": [],
   "toc_visible": true
  },
  "kernelspec": {
   "display_name": "Python 3",
   "language": "python",
   "name": "python3"
  },
  "language_info": {
   "codemirror_mode": {
    "name": "ipython",
    "version": 3
   },
   "file_extension": ".py",
   "mimetype": "text/x-python",
   "name": "python",
   "nbconvert_exporter": "python",
   "pygments_lexer": "ipython3",
   "version": "3.7.6"
  }
 },
 "nbformat": 4,
 "nbformat_minor": 1
}
